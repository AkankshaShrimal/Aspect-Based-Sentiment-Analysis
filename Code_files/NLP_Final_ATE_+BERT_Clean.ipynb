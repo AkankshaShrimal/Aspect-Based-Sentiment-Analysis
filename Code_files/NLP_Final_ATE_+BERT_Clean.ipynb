{
  "nbformat": 4,
  "nbformat_minor": 0,
  "metadata": {
    "colab": {
      "name": "NLP_Final_ATE +BERT_Clean.ipynb",
      "provenance": [],
      "collapsed_sections": []
    },
    "kernelspec": {
      "name": "python3",
      "display_name": "Python 3"
    },
    "language_info": {
      "name": "python"
    }
  },
  "cells": [
    {
      "cell_type": "code",
      "metadata": {
        "colab": {
          "base_uri": "https://localhost:8080/"
        },
        "id": "pDG4riexE1z2",
        "outputId": "82afa535-a0f0-4097-c929-607ecc7aa907"
      },
      "source": [
        "from google.colab import drive\n",
        "drive.mount('/content/drive')"
      ],
      "execution_count": null,
      "outputs": [
        {
          "output_type": "stream",
          "name": "stdout",
          "text": [
            "Mounted at /content/drive\n"
          ]
        }
      ]
    },
    {
      "cell_type": "code",
      "metadata": {
        "id": "Oo0XUakzOTas"
      },
      "source": [
        "import numpy as np\n",
        "!pip install simpletransformers\n",
        "from simpletransformers.language_representation import RepresentationModel\n",
        "import pandas as pd\n",
        "from keras.preprocessing.sequence import pad_sequences\n",
        "from tensorflow.keras.utils import to_categorical"
      ],
      "execution_count": null,
      "outputs": []
    },
    {
      "cell_type": "markdown",
      "metadata": {
        "id": "d9NnS-GZLJvQ"
      },
      "source": [
        "Load and Save Utility"
      ]
    },
    {
      "cell_type": "code",
      "metadata": {
        "id": "lTii6egzHtet"
      },
      "source": [
        "import pickle\n",
        "import joblib\n",
        "\n",
        "#Load Save Pickle Utility\n",
        "def save(filename, obj):\n",
        "  with open(filename, 'wb') as handle:\n",
        "      joblib.dump(obj, handle, protocol=pickle.HIGHEST_PROTOCOL)\n",
        "\n",
        "def load(filename):\n",
        "  with open(filename, 'rb') as handle:\n",
        "      return joblib.load(filename)"
      ],
      "execution_count": null,
      "outputs": []
    },
    {
      "cell_type": "markdown",
      "metadata": {
        "id": "VZKQW0vn8vuJ"
      },
      "source": [
        "Declare Parameters"
      ]
    },
    {
      "cell_type": "code",
      "metadata": {
        "id": "bxb350iS6Xtx"
      },
      "source": [
        "#Parameters\n",
        "model_type = 'cnn'         # 'lstm','cnn'\n",
        "embedding_type = 'triple'  #  'triple' ,'double','bert'\n",
        "dataset_name = 'restaraunt'         # 'laptop', 'restaraunt'"
      ],
      "execution_count": null,
      "outputs": []
    },
    {
      "cell_type": "markdown",
      "metadata": {
        "id": "gc1bHX-2Onv7"
      },
      "source": [
        "Preprocess Dataset"
      ]
    },
    {
      "cell_type": "code",
      "metadata": {
        "id": "52M1ct4fIFj8"
      },
      "source": [
        "def preprocess_dataset(filepath):\n",
        "  file = open(filepath)\n",
        "  #file = open('/content/drive/MyDrive/NLP_PROJECT/Laptop_Processed/train.txt')\n",
        "  examples = file.readlines()\n",
        "  examples = [example[:-1] for example in examples]\n",
        "  file.close()\n",
        "  dataset_text = [example.split('####')[1] for example in examples]\n",
        "  tokenized_dataset_text = [sentence.split(\" \") for sentence in dataset_text]\n",
        "  dataset = []\n",
        "  for tokenized_sentence in tokenized_dataset_text:\n",
        "    terms = []\n",
        "    labels = []\n",
        "    sentiment = []\n",
        "    count = 0\n",
        "    for token in tokenized_sentence:\n",
        "      if '==' in token:\n",
        "        splitting = ['=','O']\n",
        "      else:\n",
        "        splitting = token.split('=')\n",
        "      terms.append(splitting[0])\n",
        "      #print(splitting)\n",
        "      if splitting[1][0] == 'T':\n",
        "        if count == 0 or labels[-1] == 'O':\n",
        "          labels.append('B')\n",
        "        else:\n",
        "          labels.append('I')\n",
        "        sentiment.append(splitting[1][2:])\n",
        "      else:\n",
        "        labels.append('O')\n",
        "        sentiment.append('NA')\n",
        "      count +=1\n",
        "    dataset.append({'terms': terms.copy(), 'labels':labels.copy(), 'sentiment' : sentiment.copy()})\n",
        "  return dataset"
      ],
      "execution_count": null,
      "outputs": []
    },
    {
      "cell_type": "code",
      "metadata": {
        "id": "xQi2IyQrQbBR"
      },
      "source": [
        "laptop_train_set = preprocess_dataset('/content/drive/MyDrive/NLP_PROJECT_2/Laptop_Processed/train.txt')\n",
        "laptop_test_set = preprocess_dataset('/content/drive/MyDrive/NLP_PROJECT_2/Laptop_Processed/test.txt')\n",
        "\n",
        "restaraunt_train_set = preprocess_dataset('/content/drive/MyDrive/NLP_PROJECT_2/Restaraunt_Processed/train.txt')\n",
        "restaraunt_test_set = preprocess_dataset('/content/drive/MyDrive/NLP_PROJECT_2/Restaraunt_Processed/test.txt')\n",
        "\n"
      ],
      "execution_count": null,
      "outputs": []
    },
    {
      "cell_type": "code",
      "metadata": {
        "id": "Ccgdx5RoXhef"
      },
      "source": [
        "save('/content/drive/MyDrive/NLP_PROJECT_2/Laptop_Processed/train.pkl',laptop_train_set)\n",
        "save('/content/drive/MyDrive/NLP_PROJECT_2/Laptop_Processed/test.pkl',laptop_test_set)\n",
        "\n",
        "save('/content/drive/MyDrive/NLP_PROJECT_2/Restaraunt_Processed/train.pkl',restaraunt_train_set)\n",
        "save('/content/drive/MyDrive/NLP_PROJECT_2/Restaraunt_Processed/test.pkl',restaraunt_test_set)\n"
      ],
      "execution_count": null,
      "outputs": []
    },
    {
      "cell_type": "code",
      "metadata": {
        "id": "PnzILVAgIUGN"
      },
      "source": [
        "laptop_train_set = load('/content/drive/MyDrive/NLP_PROJECT_2/Laptop_Processed/train.pkl')\n",
        "laptop_test_set = load('/content/drive/MyDrive/NLP_PROJECT_2/Laptop_Processed/test.pkl')\n",
        "\n",
        "restaraunt_train_set = load('/content/drive/MyDrive/NLP_PROJECT_2/Restaraunt_Processed/train.pkl')\n",
        "restaraunt_test_set = load('/content/drive/MyDrive/NLP_PROJECT_2/Restaraunt_Processed/test.pkl')\n"
      ],
      "execution_count": null,
      "outputs": []
    },
    {
      "cell_type": "code",
      "metadata": {
        "id": "UJanYl739vnB"
      },
      "source": [
        "if dataset_name == 'restaraunt':\n",
        "  current_train_dataset = restaraunt_train_set\n",
        "  current_test_dataset = restaraunt_test_set\n",
        "else:\n",
        "  current_train_dataset = laptop_train_set\n",
        "  current_test_dataset = laptop_test_set"
      ],
      "execution_count": null,
      "outputs": []
    },
    {
      "cell_type": "code",
      "metadata": {
        "id": "d8yy3wvZjcHQ"
      },
      "source": [
        "def prepare_sentences(dataset):\n",
        "  filepath = 'input_sent.txt'\n",
        "  file = open(filepath,'w+')\n",
        "  for i in range(len(dataset)):\n",
        "    l = ' '.join(list(map(lambda x : x.lower(),dataset[i]['terms'])))\n",
        "    file.write(l+'\\n')\n",
        "  file.close()\n",
        "  return filepath"
      ],
      "execution_count": null,
      "outputs": []
    },
    {
      "cell_type": "code",
      "metadata": {
        "id": "oykAkttKHRSf"
      },
      "source": [
        "def prepare_sentences_list(dataset):\n",
        "  output_list = []\n",
        "  for i in range(len(dataset)):\n",
        "    l = ' '.join(list(map(lambda x : x.lower(),dataset[i]['terms'])))\n",
        "    output_list.append(l)\n",
        "  return output_list"
      ],
      "execution_count": null,
      "outputs": []
    },
    {
      "cell_type": "code",
      "metadata": {
        "colab": {
          "base_uri": "https://localhost:8080/",
          "height": 35
        },
        "id": "tc7ri6Ff92eS",
        "outputId": "407eca80-cb0f-45bf-ad1b-87aeb5114714"
      },
      "source": [
        "prepare_sentences(current_train_dataset)"
      ],
      "execution_count": null,
      "outputs": [
        {
          "output_type": "execute_result",
          "data": {
            "application/vnd.google.colaboratory.intrinsic+json": {
              "type": "string"
            },
            "text/plain": [
              "'input_sent.txt'"
            ]
          },
          "metadata": {},
          "execution_count": 87
        }
      ]
    },
    {
      "cell_type": "code",
      "metadata": {
        "id": "uTtjftiWsC2y"
      },
      "source": [
        "#Glove Pretrained\n",
        "# !cd /content/\n",
        "# !wget http://nlp.stanford.edu/data/glove.6B.zip"
      ],
      "execution_count": null,
      "outputs": []
    },
    {
      "cell_type": "code",
      "metadata": {
        "id": "sSwBk1hbu0bw"
      },
      "source": [
        "# import zipfile\n",
        "# with zipfile.ZipFile('/content/glove.6B.zip', 'r') as zip_ref:\n",
        "#     zip_ref.extractall('/content/drive/MyDrive/NLPA3/corpora')"
      ],
      "execution_count": null,
      "outputs": []
    },
    {
      "cell_type": "code",
      "metadata": {
        "id": "DRDkKsq6u3_u"
      },
      "source": [
        "#Preparing GLove_Vectors\n",
        "# glove_model = {}\n",
        "# with open('/content/drive/MyDrive/NLPA3/corpora/glove.6B.300d.txt','r',encoding='utf-8') as file:\n",
        "#   for line in file:\n",
        "#     splits = line.split()\n",
        "#     key = splits[0]\n",
        "#     vector_representation = np.asarray(splits[1:],np.float32)\n",
        "#     glove_model[key] = vector_representation"
      ],
      "execution_count": null,
      "outputs": []
    },
    {
      "cell_type": "markdown",
      "metadata": {
        "id": "vb7Ti0qKOugp"
      },
      "source": [
        "Calculating Max Length of Sentence for padding and Indexing all words and Tags"
      ]
    },
    {
      "cell_type": "code",
      "metadata": {
        "id": "YvF6ec71IZQo"
      },
      "source": [
        "max_len = 0\n",
        "for sample in current_train_dataset:\n",
        "  if len(sample['terms']) > max_len:\n",
        "    max_len = len(sample['terms'])\n",
        "\n",
        "#max_len = 83"
      ],
      "execution_count": null,
      "outputs": []
    },
    {
      "cell_type": "code",
      "metadata": {
        "id": "meFessC-vEQw"
      },
      "source": [
        "if embedding_type != 'bert':\n",
        "  glove_model = load('/content/drive/MyDrive/NLPA3/glove_model.pkl')"
      ],
      "execution_count": null,
      "outputs": []
    },
    {
      "cell_type": "code",
      "metadata": {
        "id": "tgZDqDtv54_V",
        "colab": {
          "base_uri": "https://localhost:8080/"
        },
        "outputId": "a39b7a48-b6c4-46b5-be77-211c71996723"
      },
      "source": [
        "#creating list of sentences for getting Bert representation\n",
        "if embedding_type!='double':\n",
        "  sentences = prepare_sentences_list(current_train_dataset)\n",
        "  test_sentences = prepare_sentences_list(current_test_dataset)\n",
        "  #defining bert encoder for embedding and encoding bert representation\n",
        "  encoder = RepresentationModel(\n",
        "      model_type = \"bert\",\n",
        "      model_name = 'bert-base-uncased',\n",
        "      use_cuda = True\n",
        "  )\n",
        "  bert_vectors = []\n",
        "  for sentence in sentences:\n",
        "    word_vector = encoder.encode_sentences([sentence],combine_strategy = None)\n",
        "    word_vector = pad_sequences(maxlen=max_len, sequences=word_vector[:,1:-1,:], padding=\"post\", value=np.zeros(word_vector.shape[-1]))\n",
        "    bert_vectors.append(word_vector)\n",
        "  bert_vectors = np.concatenate(bert_vectors,axis=0)\n",
        "  test_bert_vectors = []\n",
        "  for sentence in test_sentences:\n",
        "    word_vector = encoder.encode_sentences([sentence],combine_strategy = None)\n",
        "    word_vector = pad_sequences(maxlen=max_len, sequences=word_vector[:,1:-1,:], padding=\"post\", value=np.zeros(word_vector.shape[-1]))\n",
        "    test_bert_vectors.append(word_vector)\n",
        "  test_bert_vectors = np.concatenate(test_bert_vectors,axis = 0)"
      ],
      "execution_count": null,
      "outputs": [
        {
          "output_type": "stream",
          "name": "stderr",
          "text": [
            "Some weights of the model checkpoint at bert-base-uncased were not used when initializing BertForTextRepresentation: ['cls.seq_relationship.bias', 'cls.seq_relationship.weight', 'cls.predictions.transform.dense.weight', 'cls.predictions.decoder.weight', 'cls.predictions.transform.dense.bias', 'cls.predictions.bias', 'cls.predictions.transform.LayerNorm.weight', 'cls.predictions.transform.LayerNorm.bias']\n",
            "- This IS expected if you are initializing BertForTextRepresentation from the checkpoint of a model trained on another task or with another architecture (e.g. initializing a BertForSequenceClassification model from a BertForPreTraining model).\n",
            "- This IS NOT expected if you are initializing BertForTextRepresentation from the checkpoint of a model that you expect to be exactly identical (initializing a BertForSequenceClassification model from a BertForSequenceClassification model).\n"
          ]
        }
      ]
    },
    {
      "cell_type": "code",
      "metadata": {
        "id": "FDXa1jn_yz1h",
        "colab": {
          "base_uri": "https://localhost:8080/"
        },
        "outputId": "72f2f90b-6894-40d2-ee3a-6bb8d50b9fea"
      },
      "source": [
        "if embedding_type != 'bert':\n",
        "  !pip install fasttext\n",
        "  import fasttext\n",
        "  embedding = fasttext.train_unsupervised('input_sent.txt')"
      ],
      "execution_count": null,
      "outputs": [
        {
          "output_type": "stream",
          "name": "stdout",
          "text": [
            "Requirement already satisfied: fasttext in /usr/local/lib/python3.7/dist-packages (0.9.2)\n",
            "Requirement already satisfied: numpy in /usr/local/lib/python3.7/dist-packages (from fasttext) (1.19.5)\n",
            "Requirement already satisfied: setuptools>=0.7.0 in /usr/local/lib/python3.7/dist-packages (from fasttext) (57.4.0)\n",
            "Requirement already satisfied: pybind11>=2.2 in /usr/local/lib/python3.7/dist-packages (from fasttext) (2.8.1)\n"
          ]
        }
      ]
    },
    {
      "cell_type": "code",
      "metadata": {
        "id": "l09mzeLbIal9"
      },
      "source": [
        "all_words = []\n",
        "for sample in current_train_dataset:\n",
        "  all_words += sample['terms']\n",
        "all_words = list(set(all_words))\n",
        "word_indices = {word : index+1 for index,word in enumerate(all_words)}\n",
        "\n"
      ],
      "execution_count": null,
      "outputs": []
    },
    {
      "cell_type": "code",
      "metadata": {
        "id": "HSt5krB-J__0"
      },
      "source": [
        "if embedding_type != 'bert':\n",
        "  combined_embedding = {}\n",
        "  for word in all_words:\n",
        "    general = glove_model[word] if word in glove_model else np.zeros((300,))\n",
        "    domain = embedding[word] if word in embedding else np.zeros((100,))\n",
        "    combo = np.concatenate((general,domain))\n",
        "    combined_embedding[word_indices[word]] = combo\n",
        "  combined_embedding[0] = np.zeros((400,))"
      ],
      "execution_count": null,
      "outputs": []
    },
    {
      "cell_type": "code",
      "metadata": {
        "id": "UDOf_5vkIe-V"
      },
      "source": [
        "tag_indices = {'B':0, 'I':1, 'O':2}\n",
        "rev_tag_indices = {0:'B', 1:'I', 2:'O'}"
      ],
      "execution_count": null,
      "outputs": []
    },
    {
      "cell_type": "markdown",
      "metadata": {
        "id": "m8pyrDZJPVm3"
      },
      "source": [
        "Padding Sentence Sequenc"
      ]
    },
    {
      "cell_type": "code",
      "metadata": {
        "id": "57HaYJyMImMG"
      },
      "source": [
        "X_train = [[word_indices[t] for t in sample['terms']] for sample in current_train_dataset]\n",
        "X_train = pad_sequences(maxlen=max_len, sequences=X_train, padding=\"post\", value=0)\n",
        "\n",
        "X_test = [[word_indices[t] if t in word_indices else 0 for t in sample['terms']] for sample in current_test_dataset]\n",
        "X_test = pad_sequences(maxlen=max_len, sequences=X_test, padding=\"post\", value=0)\n",
        "\n",
        "if embedding_type != 'bert':\n",
        "  X_train = [[combined_embedding[t] for t in sample] for sample in X_train]\n",
        "  X_train = np.array(X_train)\n",
        "  X_test = [[combined_embedding[t] for t in sample] for sample in X_test]\n",
        "  X_test = np.array(X_test)\n",
        "  if embedding_type == 'triple':\n",
        "    X_train = np.concatenate([X_train,bert_vectors],axis=2)\n",
        "    X_test = np.concatenate([X_test,test_bert_vectors],axis=2)\n",
        "else:\n",
        "  X_train = bert_vectors\n",
        "  X_test = test_bert_vectors\n",
        "y_train = [[tag_indices[t] for t in sample['labels']] for sample in current_train_dataset]\n",
        "y_train = pad_sequences(maxlen=max_len, sequences=y_train, padding=\"post\", value=tag_indices['O'])\n",
        "y_train = [to_categorical(i, num_classes=3) for i in y_train]\n",
        "\n",
        "y_test = [[tag_indices[t] for t in sample['labels']] for sample in current_test_dataset]\n",
        "y_test = pad_sequences(maxlen=max_len, sequences=y_test, padding=\"post\", value=tag_indices['O'])\n",
        "y_test = [to_categorical(i, num_classes=3) for i in y_test]\n"
      ],
      "execution_count": null,
      "outputs": []
    },
    {
      "cell_type": "markdown",
      "metadata": {
        "id": "ov67iN5VPkQR"
      },
      "source": [
        "LSTM/CNN Model for Labelling"
      ]
    },
    {
      "cell_type": "code",
      "metadata": {
        "colab": {
          "base_uri": "https://localhost:8080/"
        },
        "id": "JKGvvsnmUwGe",
        "outputId": "cc6fefde-024d-40db-b1cf-2a36aec10652"
      },
      "source": [
        "from keras.models import Model, Input\n",
        "from keras.layers import LSTM, Embedding, Dense, TimeDistributed, Dropout, Bidirectional,Conv1D,concatenate\n",
        "if model_type =='lstm':\n",
        "  input = Input(shape=X_train.shape[1:])\n",
        "  model = Bidirectional(LSTM(units=50, return_sequences=True, recurrent_dropout=0.1))(input)  # variational biLSTM\n",
        "  out = TimeDistributed(Dense(3, activation=\"softmax\"))(model)  # a dense layer as suggested by neuralNer\n",
        "\n",
        "  model = Model(input, out)\n",
        "  model.compile(optimizer=\"rmsprop\", loss='categorical_crossentropy', metrics='acc')\n",
        "  model.summary()\n",
        "else:\n",
        "  input = Input(shape=X_train.shape[1:])\n",
        "  model1 = Conv1D(256,3,strides = 1,activation = 'relu',padding = 'same')(input)\n",
        "  model2 = Conv1D(256,5,strides = 1,activation = 'relu',padding = 'same')(input)\n",
        "  model = concatenate([model1,model2])\n",
        "  model = Conv1D(512,5,strides = 1,activation = 'relu',padding = 'same')(model)\n",
        "  model = Conv1D(512,5,strides = 1,activation = 'relu',padding = 'same')(model)\n",
        "  model = Conv1D(512,5,strides = 1,activation = 'relu',padding = 'same')(model)\n",
        "  model = Dense(25, activation=\"relu\")(model) \n",
        "  out = Dense(3, activation=\"softmax\")(model)  # a dense layer as suggested by neuralNer\n",
        "\n",
        "  model = Model(input, out)\n",
        "  model.compile(optimizer=\"rmsprop\", loss='categorical_crossentropy', metrics='acc')\n",
        "  model.summary()"
      ],
      "execution_count": null,
      "outputs": [
        {
          "output_type": "stream",
          "name": "stdout",
          "text": [
            "Model: \"model_7\"\n",
            "__________________________________________________________________________________________________\n",
            " Layer (type)                   Output Shape         Param #     Connected to                     \n",
            "==================================================================================================\n",
            " input_8 (InputLayer)           [(None, 75, 1168)]   0           []                               \n",
            "                                                                                                  \n",
            " conv1d_15 (Conv1D)             (None, 75, 256)      897280      ['input_8[0][0]']                \n",
            "                                                                                                  \n",
            " conv1d_16 (Conv1D)             (None, 75, 256)      1495296     ['input_8[0][0]']                \n",
            "                                                                                                  \n",
            " concatenate_3 (Concatenate)    (None, 75, 512)      0           ['conv1d_15[0][0]',              \n",
            "                                                                  'conv1d_16[0][0]']              \n",
            "                                                                                                  \n",
            " conv1d_17 (Conv1D)             (None, 75, 512)      1311232     ['concatenate_3[0][0]']          \n",
            "                                                                                                  \n",
            " conv1d_18 (Conv1D)             (None, 75, 512)      1311232     ['conv1d_17[0][0]']              \n",
            "                                                                                                  \n",
            " conv1d_19 (Conv1D)             (None, 75, 512)      1311232     ['conv1d_18[0][0]']              \n",
            "                                                                                                  \n",
            " dense_10 (Dense)               (None, 75, 25)       12825       ['conv1d_19[0][0]']              \n",
            "                                                                                                  \n",
            " dense_11 (Dense)               (None, 75, 3)        78          ['dense_10[0][0]']               \n",
            "                                                                                                  \n",
            "==================================================================================================\n",
            "Total params: 6,339,175\n",
            "Trainable params: 6,339,175\n",
            "Non-trainable params: 0\n",
            "__________________________________________________________________________________________________\n"
          ]
        }
      ]
    },
    {
      "cell_type": "code",
      "metadata": {
        "id": "T9Chetequvkl"
      },
      "source": [
        "#Save X,y for each embedding\n",
        "save('/content/drive/MyDrive/NLP_PROJECT/Final/Embeddings/X_train_'+embedding_type+'_'+dataset_name+'.pkl',X_train)\n",
        "save('/content/drive/MyDrive/NLP_PROJECT/Final/Embeddings/X_test_'+embedding_type+'_'+dataset_name+'.pkl',X_test)\n",
        "save('/content/drive/MyDrive/NLP_PROJECT/Final/Embeddings/y_train_' + dataset_name+'.pkl',y_train)\n",
        "save('/content/drive/MyDrive/NLP_PROJECT/Final/Embeddings/y_test_' + dataset_name+'.pkl',y_test)"
      ],
      "execution_count": null,
      "outputs": []
    },
    {
      "cell_type": "code",
      "metadata": {
        "colab": {
          "base_uri": "https://localhost:8080/"
        },
        "id": "iu6mwEr9JjgA",
        "outputId": "e2d8abeb-7de1-4dc7-8ff9-851223b30418"
      },
      "source": [
        "#Fit Model\n",
        "history = model.fit(X_train, np.array(y_train), batch_size=32, epochs=10, validation_split=0.1, verbose=1)\n",
        "hist = pd.DataFrame(history.history)"
      ],
      "execution_count": null,
      "outputs": [
        {
          "output_type": "stream",
          "name": "stdout",
          "text": [
            "Epoch 1/10\n",
            "77/77 [==============================] - 11s 107ms/step - loss: 0.2367 - acc: 0.9642 - val_loss: 0.0343 - val_acc: 0.9876\n",
            "Epoch 2/10\n",
            "77/77 [==============================] - 7s 91ms/step - loss: 0.0337 - acc: 0.9887 - val_loss: 0.0260 - val_acc: 0.9910\n",
            "Epoch 3/10\n",
            "77/77 [==============================] - 7s 87ms/step - loss: 0.0166 - acc: 0.9945 - val_loss: 0.0276 - val_acc: 0.9898\n",
            "Epoch 4/10\n",
            "77/77 [==============================] - 6s 82ms/step - loss: 0.0077 - acc: 0.9974 - val_loss: 0.0459 - val_acc: 0.9909\n",
            "Epoch 5/10\n",
            "77/77 [==============================] - 6s 79ms/step - loss: 0.0054 - acc: 0.9985 - val_loss: 0.0395 - val_acc: 0.9910\n",
            "Epoch 6/10\n",
            "77/77 [==============================] - 6s 79ms/step - loss: 0.0045 - acc: 0.9987 - val_loss: 0.0413 - val_acc: 0.9907\n",
            "Epoch 7/10\n",
            "77/77 [==============================] - 6s 79ms/step - loss: 0.0069 - acc: 0.9986 - val_loss: 0.0394 - val_acc: 0.9920\n",
            "Epoch 8/10\n",
            "77/77 [==============================] - 6s 78ms/step - loss: 0.0019 - acc: 0.9994 - val_loss: 0.0562 - val_acc: 0.9918\n",
            "Epoch 9/10\n",
            "77/77 [==============================] - 6s 79ms/step - loss: 0.0018 - acc: 0.9995 - val_loss: 0.0975 - val_acc: 0.9906\n",
            "Epoch 10/10\n",
            "77/77 [==============================] - 6s 79ms/step - loss: 0.0019 - acc: 0.9996 - val_loss: 0.0612 - val_acc: 0.9913\n"
          ]
        }
      ]
    },
    {
      "cell_type": "code",
      "metadata": {
        "colab": {
          "base_uri": "https://localhost:8080/"
        },
        "id": "b21M_syMQPwC",
        "outputId": "41ebb046-3033-48f4-a750-8444e4947935"
      },
      "source": [
        "model.save('/content/drive/MyDrive/NLP_PROJECT/Final/Models/ATE/'+dataset_name+'_'+embedding_type+'_'+model_type+'.pkl')"
      ],
      "execution_count": null,
      "outputs": [
        {
          "output_type": "stream",
          "name": "stdout",
          "text": [
            "INFO:tensorflow:Assets written to: /content/drive/MyDrive/NLP_PROJECT/Final/Models/ATE/restaraunt_triple_cnn.pkl/assets\n"
          ]
        },
        {
          "output_type": "stream",
          "name": "stderr",
          "text": [
            "INFO:tensorflow:Assets written to: /content/drive/MyDrive/NLP_PROJECT/Final/Models/ATE/restaraunt_triple_cnn.pkl/assets\n"
          ]
        }
      ]
    },
    {
      "cell_type": "code",
      "metadata": {
        "colab": {
          "base_uri": "https://localhost:8080/",
          "height": 264
        },
        "id": "jebBV8uUJ0z4",
        "outputId": "50b790f4-18e7-4eda-e907-722f80c94b12"
      },
      "source": [
        "import matplotlib.pyplot as plt\n",
        "plt.plot(hist[\"acc\"],label=\"Train Accuracy\")\n",
        "plt.plot(hist[\"val_acc\"],label=\"Test Accuracy\")\n",
        "plt.show()"
      ],
      "execution_count": null,
      "outputs": [
        {
          "output_type": "display_data",
          "data": {
            "image/png": "[encoded data removed]",
            "text/plain": [
              "<Figure size 432x288 with 1 Axes>"
            ]
          },
          "metadata": {
            "needs_background": "light"
          }
        }
      ]
    },
    {
      "cell_type": "code",
      "metadata": {
        "id": "kBoo1Xp5Tmbd",
        "colab": {
          "base_uri": "https://localhost:8080/"
        },
        "outputId": "ac2610fd-faab-4e10-c266-a04f50c7af8d"
      },
      "source": [
        "from tensorflow import keras\n",
        "model = keras.models.load_model('/content/drive/MyDrive/NLP_PROJECT/Final/Models/ATE/'+dataset_name+'_'+embedding_type+'_'+model_type+'.pkl')"
      ],
      "execution_count": null,
      "outputs": [
        {
          "output_type": "stream",
          "name": "stdout",
          "text": [
            "WARNING:tensorflow:Layer lstm will not use cuDNN kernels since it doesn't meet the criteria. It will use a generic GPU kernel as fallback when running on GPU.\n"
          ]
        },
        {
          "output_type": "stream",
          "name": "stderr",
          "text": [
            "WARNING:tensorflow:Layer lstm will not use cuDNN kernels since it doesn't meet the criteria. It will use a generic GPU kernel as fallback when running on GPU.\n"
          ]
        },
        {
          "output_type": "stream",
          "name": "stdout",
          "text": [
            "WARNING:tensorflow:Layer lstm will not use cuDNN kernels since it doesn't meet the criteria. It will use a generic GPU kernel as fallback when running on GPU.\n"
          ]
        },
        {
          "output_type": "stream",
          "name": "stderr",
          "text": [
            "WARNING:tensorflow:Layer lstm will not use cuDNN kernels since it doesn't meet the criteria. It will use a generic GPU kernel as fallback when running on GPU.\n"
          ]
        },
        {
          "output_type": "stream",
          "name": "stdout",
          "text": [
            "WARNING:tensorflow:Layer lstm will not use cuDNN kernels since it doesn't meet the criteria. It will use a generic GPU kernel as fallback when running on GPU.\n"
          ]
        },
        {
          "output_type": "stream",
          "name": "stderr",
          "text": [
            "WARNING:tensorflow:Layer lstm will not use cuDNN kernels since it doesn't meet the criteria. It will use a generic GPU kernel as fallback when running on GPU.\n"
          ]
        }
      ]
    },
    {
      "cell_type": "code",
      "metadata": {
        "colab": {
          "base_uri": "https://localhost:8080/"
        },
        "id": "cWoXtXoGP6cq",
        "outputId": "13f6dd7c-cf40-44e1-c220-fe7df3db190c"
      },
      "source": [
        "model.evaluate(X_test,np.array(y_test))"
      ],
      "execution_count": null,
      "outputs": [
        {
          "output_type": "stream",
          "name": "stdout",
          "text": [
            "25/25 [==============================] - 3s 100ms/step - loss: 0.0645 - acc: 0.9777\n"
          ]
        },
        {
          "output_type": "execute_result",
          "data": {
            "text/plain": [
              "[0.06445328891277313, 0.9776999950408936]"
            ]
          },
          "metadata": {},
          "execution_count": 21
        }
      ]
    },
    {
      "cell_type": "code",
      "metadata": {
        "id": "WJIj2Ww2UK6c"
      },
      "source": [
        "train_pred = np.argmax(model.predict(X_train),axis = 2)\n",
        "train_target = np.argmax(np.array(y_train),axis=2)"
      ],
      "execution_count": null,
      "outputs": []
    },
    {
      "cell_type": "code",
      "metadata": {
        "id": "aiR8_Pt4J2sq"
      },
      "source": [
        "pred = np.argmax(model.predict(X_test),axis=2)\n",
        "target = np.argmax(np.array(y_test),axis=2)"
      ],
      "execution_count": null,
      "outputs": []
    },
    {
      "cell_type": "code",
      "metadata": {
        "id": "V1cyAXEYX4Wc"
      },
      "source": [
        "y_t = []\n",
        "y_h = []\n",
        "for i in range(pred.shape[0]):\n",
        "  for j in range(pred.shape[1]):\n",
        "    y_t.append(target[i,j])\n",
        "    y_h.append(pred[i,j])"
      ],
      "execution_count": null,
      "outputs": []
    },
    {
      "cell_type": "code",
      "metadata": {
        "id": "oKCUCfwgZYpv"
      },
      "source": [
        "y_t = []\n",
        "y_h = []\n",
        "for i in range(train_pred.shape[0]):\n",
        "  for j in range(train_pred.shape[1]):\n",
        "    y_t.append(train_target[i,j])\n",
        "    y_h.append(train_pred[i,j])"
      ],
      "execution_count": null,
      "outputs": []
    },
    {
      "cell_type": "code",
      "metadata": {
        "colab": {
          "base_uri": "https://localhost:8080/"
        },
        "id": "92W4E5XlXF70",
        "outputId": "fde5799f-f079-4595-e44f-581111a2c395"
      },
      "source": [
        "from sklearn.metrics import precision_score\n",
        "from sklearn.metrics import recall_score\n",
        "from sklearn.metrics import f1_score\n",
        "from sklearn.metrics import classification_report\n",
        "def tag_wise_metrics(y_true, y_pred, target_names):\n",
        "  print(classification_report(y_true, y_pred, target_names=target_names))\n",
        "\n",
        "tag_wise_metrics(y_t, y_h, ['B','I','O'])"
      ],
      "execution_count": null,
      "outputs": [
        {
          "output_type": "stream",
          "name": "stdout",
          "text": [
            "              precision    recall  f1-score   support\n",
            "\n",
            "           B       0.84      0.73      0.78      1121\n",
            "           I       0.84      0.57      0.68       502\n",
            "           O       0.99      1.00      1.00     58377\n",
            "\n",
            "    accuracy                           0.99     60000\n",
            "   macro avg       0.89      0.77      0.82     60000\n",
            "weighted avg       0.99      0.99      0.99     60000\n",
            "\n"
          ]
        }
      ]
    },
    {
      "cell_type": "code",
      "metadata": {
        "id": "RM-79ayxhKiG"
      },
      "source": [
        "pred_labels = []\n",
        "for i in range(pred.shape[0]):\n",
        "  pred_labels.append(list(map( lambda x: rev_tag_indices[x],pred[i])))\n",
        "print(pred_labels)"
      ],
      "execution_count": null,
      "outputs": []
    },
    {
      "cell_type": "code",
      "metadata": {
        "id": "RAp8iQC3hwpM"
      },
      "source": [
        "target_labels = [list(map(lambda x:rev_tag_indices[x],pred))np.argmax(np.array(y_test),axis = 2)"
      ],
      "execution_count": null,
      "outputs": []
    },
    {
      "cell_type": "code",
      "metadata": {
        "id": "P60pGsTraxf0"
      },
      "source": [
        "def find_scores(y_true, y_pred, type_1 = 'micro'):\n",
        "  print(\"Precision of type : \", type_1)\n",
        "  print(precision_score(y_true, y_pred, average=type_1))\n",
        "  print(\"Recall of type : \", type_1)\n",
        "  print(recall_score(y_true, y_pred, average=type_1))\n",
        "  print(\"F1-Score of type : \", type_1)\n",
        "  print(f1_score(y_true, y_pred, average=type_1))"
      ],
      "execution_count": null,
      "outputs": []
    },
    {
      "cell_type": "code",
      "metadata": {
        "colab": {
          "base_uri": "https://localhost:8080/"
        },
        "id": "6IdEVg70cPGG",
        "outputId": "9a438ce2-03e0-40ca-abfc-a38881e0cc3d"
      },
      "source": [
        "find_scores(y_t,y_h,'macro')"
      ],
      "execution_count": null,
      "outputs": [
        {
          "output_type": "stream",
          "name": "stdout",
          "text": [
            "Precision of type :  macro\n",
            "0.6563325280238598\n",
            "Recall of type :  macro\n",
            "0.6024282693740851\n",
            "F1-Score of type :  macro\n",
            "0.6235070127055947\n"
          ]
        }
      ]
    },
    {
      "cell_type": "code",
      "metadata": {
        "id": "yRegxo75Fiso"
      },
      "source": [
        "final_output = []\n",
        "terms = [[t for t in sample['terms']] + [0]*(max_len-len(sample['terms'])) for sample in laptop_train_set]\n",
        "pred_labels = [list(train_pred[i]) for i in range(train_pred.shape[0])]\n",
        "pred_labels = [[rev_tag_indices[t] for t in sample]+ [0]*(max_len-len(sample)) for sample in pred_labels]\n",
        "sentiments = [[t for t in sample['sentiment']] + [0]*(max_len-len(sample['sentiment'])) for sample in laptop_train_set]\n"
      ],
      "execution_count": null,
      "outputs": []
    },
    {
      "cell_type": "code",
      "metadata": {
        "id": "6QmT2BruGITv"
      },
      "source": [
        "final = [[terms[i],pred_labels[i],sentiments[i]] for i in range(len(terms))]\n",
        "final = pd.DataFrame(final,columns=[\"terms\",\"aspect_labels\",\"sentiments\"])"
      ],
      "execution_count": null,
      "outputs": []
    },
    {
      "cell_type": "code",
      "metadata": {
        "colab": {
          "base_uri": "https://localhost:8080/",
          "height": 202
        },
        "id": "OKB2jIrUfN0X",
        "outputId": "7e2fe066-367b-4e8c-96fa-1c4e8e8484e6"
      },
      "source": [
        "final.head()"
      ],
      "execution_count": null,
      "outputs": [
        {
          "output_type": "execute_result",
          "data": {
            "text/html": [
              "<div>\n",
              "<style scoped>\n",
              "    .dataframe tbody tr th:only-of-type {\n",
              "        vertical-align: middle;\n",
              "    }\n",
              "\n",
              "    .dataframe tbody tr th {\n",
              "        vertical-align: top;\n",
              "    }\n",
              "\n",
              "    .dataframe thead th {\n",
              "        text-align: right;\n",
              "    }\n",
              "</style>\n",
              "<table border=\"1\" class=\"dataframe\">\n",
              "  <thead>\n",
              "    <tr style=\"text-align: right;\">\n",
              "      <th></th>\n",
              "      <th>terms</th>\n",
              "      <th>aspect_labels</th>\n",
              "      <th>sentiments</th>\n",
              "    </tr>\n",
              "  </thead>\n",
              "  <tbody>\n",
              "    <tr>\n",
              "      <th>0</th>\n",
              "      <td>[i, charge, it, at, night, and, skip, taking, ...</td>\n",
              "      <td>[O, O, O, O, O, O, O, O, O, B, O, O, O, O, O, ...</td>\n",
              "      <td>[NA, NA, NA, NA, NA, NA, NA, NA, NA, NEU, NA, ...</td>\n",
              "    </tr>\n",
              "    <tr>\n",
              "      <th>1</th>\n",
              "      <td>[i, bought, a, hp, pavilion, dv4-1222nr, lapto...</td>\n",
              "      <td>[O, O, O, O, O, O, O, O, O, O, O, O, O, O, O, ...</td>\n",
              "      <td>[NA, NA, NA, NA, NA, NA, NA, NA, NA, NA, NA, N...</td>\n",
              "    </tr>\n",
              "    <tr>\n",
              "      <th>2</th>\n",
              "      <td>[the, tech, guy, then, said, the, service, cen...</td>\n",
              "      <td>[O, B, I, O, O, O, B, I, O, O, O, O, O, O, O, ...</td>\n",
              "      <td>[NA, NEU, NEU, NA, NA, NA, NEG, NEG, NA, NA, N...</td>\n",
              "    </tr>\n",
              "    <tr>\n",
              "      <th>3</th>\n",
              "      <td>[i, investigated, netbooks, and, saw, the, tos...</td>\n",
              "      <td>[O, O, O, O, O, O, O, O, O, O, O, O, O, O, O, ...</td>\n",
              "      <td>[NA, NA, NA, NA, NA, NA, NA, NA, NA, 0, 0, 0, ...</td>\n",
              "    </tr>\n",
              "    <tr>\n",
              "      <th>4</th>\n",
              "      <td>[it, is, of, high, quality, ,, has, a, killer,...</td>\n",
              "      <td>[O, O, O, O, B, O, O, O, O, B, O, O, O, O, O, ...</td>\n",
              "      <td>[NA, NA, NA, NA, POS, NA, NA, NA, NA, POS, NA,...</td>\n",
              "    </tr>\n",
              "  </tbody>\n",
              "</table>\n",
              "</div>"
            ],
            "text/plain": [
              "                                               terms  ...                                         sentiments\n",
              "0  [i, charge, it, at, night, and, skip, taking, ...  ...  [NA, NA, NA, NA, NA, NA, NA, NA, NA, NEU, NA, ...\n",
              "1  [i, bought, a, hp, pavilion, dv4-1222nr, lapto...  ...  [NA, NA, NA, NA, NA, NA, NA, NA, NA, NA, NA, N...\n",
              "2  [the, tech, guy, then, said, the, service, cen...  ...  [NA, NEU, NEU, NA, NA, NA, NEG, NEG, NA, NA, N...\n",
              "3  [i, investigated, netbooks, and, saw, the, tos...  ...  [NA, NA, NA, NA, NA, NA, NA, NA, NA, 0, 0, 0, ...\n",
              "4  [it, is, of, high, quality, ,, has, a, killer,...  ...  [NA, NA, NA, NA, POS, NA, NA, NA, NA, POS, NA,...\n",
              "\n",
              "[5 rows x 3 columns]"
            ]
          },
          "metadata": {},
          "execution_count": 54
        }
      ]
    },
    {
      "cell_type": "code",
      "metadata": {
        "id": "KXNHzJFkiWI0"
      },
      "source": [
        "save('/content/drive/MyDrive/NLP_PROJECT/Final/ATE/Predictions/laptop_train',final)"
      ],
      "execution_count": null,
      "outputs": []
    },
    {
      "cell_type": "code",
      "metadata": {
        "id": "HHf6emESkwrq"
      },
      "source": [
        "\n",
        "  "
      ],
      "execution_count": null,
      "outputs": []
    }
  ]
}